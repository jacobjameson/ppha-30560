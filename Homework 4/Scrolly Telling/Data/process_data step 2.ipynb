{
 "cells": [
  {
   "cell_type": "code",
   "execution_count": 117,
   "metadata": {},
   "outputs": [],
   "source": [
    "import datetime \n",
    "import pandas as pd"
   ]
  },
  {
   "cell_type": "code",
   "execution_count": 182,
   "metadata": {},
   "outputs": [],
   "source": [
    "df = pd.read_stata('covid_vax.dta')\n",
    "df['datetime'] = pd.to_datetime(df['date'])\n",
    "df = df.sort_values(by='datetime', ascending=True)\n",
    "df.percent_vax = df.percent_vax.astype('float64').round(2) \n",
    "df_cols = list(df.date)\n",
    "df_cols\n",
    "df_vals = list(df.percent_vax)"
   ]
  },
  {
   "cell_type": "code",
   "execution_count": 183,
   "metadata": {},
   "outputs": [],
   "source": [
    "data = dict()\n",
    "data['Region'] = 'Chicago'\n",
    "\n",
    "i = 0\n",
    "for date in df_cols:\n",
    "    data[date] = [df_vals[i]]\n",
    "    i+=1\n",
    "\n",
    "# Create DataFrame\n",
    "df = pd.DataFrame(data)\n",
    "df\n",
    "df.to_csv('chicago_vax.csv',index=False,header=True)"
   ]
  }
 ],
 "metadata": {
  "kernelspec": {
   "display_name": "Python 3",
   "language": "python",
   "name": "python3"
  },
  "language_info": {
   "codemirror_mode": {
    "name": "ipython",
    "version": 3
   },
   "file_extension": ".py",
   "mimetype": "text/x-python",
   "name": "python",
   "nbconvert_exporter": "python",
   "pygments_lexer": "ipython3",
   "version": "3.8.5"
  }
 },
 "nbformat": 4,
 "nbformat_minor": 4
}
